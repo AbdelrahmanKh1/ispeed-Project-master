{
 "cells": [
  {
   "cell_type": "markdown",
   "metadata": {
    "colab_type": "text",
    "id": "7BrJFVywpgaX"
   },
   "source": [
    "# Mouse Experiment"
   ]
  },
  {
   "cell_type": "markdown",
   "metadata": {
    "colab_type": "text",
    "id": "8-JCWbGxlPki"
   },
   "source": [
    "In this Kernel i will classify the Mouse Dataset to verify that a machine can defferentiate between 3 different speeds using mouse as an input device"
   ]
  },
  {
   "cell_type": "markdown",
   "metadata": {
    "colab_type": "text",
    "id": "DnMx9aaRlpR0"
   },
   "source": [
    "First i will start by uploading the dataset to colaboratory to be able to use it later."
   ]
  },
  {
   "cell_type": "code",
   "execution_count": 1,
   "metadata": {
    "colab": {},
    "colab_type": "code",
    "id": "mt4xoYBcZBXi"
   },
   "outputs": [],
   "source": [
    "import pandas as pd\n",
    "import numpy as np"
   ]
  },
  {
   "cell_type": "markdown",
   "metadata": {
    "colab_type": "text",
    "id": "wkCBl-yJl1eS"
   },
   "source": [
    "# Exploratory Data Analysis\n",
    "\n",
    "Now i will import the data to my data frame to be able to explore it later. I will be exploring :\n",
    "\n",
    "1.   Some statistics about the dataset like the number of classes, the number of features ...\n",
    "2.   Correlations between features\n",
    "3.   Number of outliers based on the zscore\n"
   ]
  },
  {
   "cell_type": "code",
   "execution_count": 2,
   "metadata": {
    "colab": {},
    "colab_type": "code",
    "id": "YZaQob8OZBXl"
   },
   "outputs": [],
   "source": [
    "import io\n",
    "\n",
    "data = pd.read_csv(\"C:\\\\Users\\\\Moghazy\\\\Desktop\\\\data1.csv\")"
   ]
  },
  {
   "cell_type": "code",
   "execution_count": 3,
   "metadata": {
    "colab": {
     "base_uri": "https://localhost:8080/",
     "height": 195
    },
    "colab_type": "code",
    "id": "7AJOyNovZBXq",
    "outputId": "02585bc0-1b1c-492f-8354-605d0b2c5811"
   },
   "outputs": [
    {
     "data": {
      "text/html": [
       "<div>\n",
       "<style scoped>\n",
       "    .dataframe tbody tr th:only-of-type {\n",
       "        vertical-align: middle;\n",
       "    }\n",
       "\n",
       "    .dataframe tbody tr th {\n",
       "        vertical-align: top;\n",
       "    }\n",
       "\n",
       "    .dataframe thead th {\n",
       "        text-align: right;\n",
       "    }\n",
       "</style>\n",
       "<table border=\"1\" class=\"dataframe\">\n",
       "  <thead>\n",
       "    <tr style=\"text-align: right;\">\n",
       "      <th></th>\n",
       "      <th>Unnamed: 0</th>\n",
       "      <th>InvertedMouseY</th>\n",
       "      <th>NumberInBlock</th>\n",
       "      <th>direction</th>\n",
       "      <th>greenX0</th>\n",
       "      <th>greenX1</th>\n",
       "      <th>greenY0</th>\n",
       "      <th>greenY1</th>\n",
       "      <th>index</th>\n",
       "      <th>mouseX</th>\n",
       "      <th>mouseY</th>\n",
       "      <th>redX0</th>\n",
       "      <th>redX1</th>\n",
       "      <th>redY0</th>\n",
       "      <th>redY1</th>\n",
       "      <th>speed</th>\n",
       "      <th>timeMilSec</th>\n",
       "      <th>trialIdx</th>\n",
       "      <th>user</th>\n",
       "    </tr>\n",
       "  </thead>\n",
       "  <tbody>\n",
       "    <tr>\n",
       "      <th>0</th>\n",
       "      <td>1</td>\n",
       "      <td>57.0</td>\n",
       "      <td>0.0</td>\n",
       "      <td>0.0</td>\n",
       "      <td>640.0</td>\n",
       "      <td>640.0</td>\n",
       "      <td>320.0</td>\n",
       "      <td>760.0</td>\n",
       "      <td>17596.0</td>\n",
       "      <td>728.0</td>\n",
       "      <td>57.0</td>\n",
       "      <td>1280.0</td>\n",
       "      <td>1280.0</td>\n",
       "      <td>320.0</td>\n",
       "      <td>760.0</td>\n",
       "      <td>0.0</td>\n",
       "      <td>93.0</td>\n",
       "      <td>450.0</td>\n",
       "      <td>0.0</td>\n",
       "    </tr>\n",
       "    <tr>\n",
       "      <th>1</th>\n",
       "      <td>1</td>\n",
       "      <td>28.0</td>\n",
       "      <td>1.0</td>\n",
       "      <td>0.0</td>\n",
       "      <td>640.0</td>\n",
       "      <td>640.0</td>\n",
       "      <td>320.0</td>\n",
       "      <td>760.0</td>\n",
       "      <td>9963.0</td>\n",
       "      <td>561.0</td>\n",
       "      <td>28.0</td>\n",
       "      <td>1280.0</td>\n",
       "      <td>1280.0</td>\n",
       "      <td>320.0</td>\n",
       "      <td>760.0</td>\n",
       "      <td>0.0</td>\n",
       "      <td>172.0</td>\n",
       "      <td>451.0</td>\n",
       "      <td>0.0</td>\n",
       "    </tr>\n",
       "    <tr>\n",
       "      <th>2</th>\n",
       "      <td>1</td>\n",
       "      <td>55.0</td>\n",
       "      <td>10.0</td>\n",
       "      <td>0.0</td>\n",
       "      <td>640.0</td>\n",
       "      <td>640.0</td>\n",
       "      <td>320.0</td>\n",
       "      <td>760.0</td>\n",
       "      <td>11235.0</td>\n",
       "      <td>657.0</td>\n",
       "      <td>55.0</td>\n",
       "      <td>1280.0</td>\n",
       "      <td>1280.0</td>\n",
       "      <td>320.0</td>\n",
       "      <td>760.0</td>\n",
       "      <td>0.0</td>\n",
       "      <td>733.0</td>\n",
       "      <td>460.0</td>\n",
       "      <td>0.0</td>\n",
       "    </tr>\n",
       "    <tr>\n",
       "      <th>3</th>\n",
       "      <td>1</td>\n",
       "      <td>44.0</td>\n",
       "      <td>11.0</td>\n",
       "      <td>0.0</td>\n",
       "      <td>640.0</td>\n",
       "      <td>640.0</td>\n",
       "      <td>320.0</td>\n",
       "      <td>760.0</td>\n",
       "      <td>9539.0</td>\n",
       "      <td>628.0</td>\n",
       "      <td>44.0</td>\n",
       "      <td>1280.0</td>\n",
       "      <td>1280.0</td>\n",
       "      <td>320.0</td>\n",
       "      <td>760.0</td>\n",
       "      <td>0.0</td>\n",
       "      <td>390.0</td>\n",
       "      <td>461.0</td>\n",
       "      <td>0.0</td>\n",
       "    </tr>\n",
       "    <tr>\n",
       "      <th>4</th>\n",
       "      <td>1</td>\n",
       "      <td>95.0</td>\n",
       "      <td>12.0</td>\n",
       "      <td>0.0</td>\n",
       "      <td>640.0</td>\n",
       "      <td>640.0</td>\n",
       "      <td>320.0</td>\n",
       "      <td>760.0</td>\n",
       "      <td>9327.0</td>\n",
       "      <td>652.0</td>\n",
       "      <td>95.0</td>\n",
       "      <td>1280.0</td>\n",
       "      <td>1280.0</td>\n",
       "      <td>320.0</td>\n",
       "      <td>760.0</td>\n",
       "      <td>0.0</td>\n",
       "      <td>577.0</td>\n",
       "      <td>462.0</td>\n",
       "      <td>0.0</td>\n",
       "    </tr>\n",
       "  </tbody>\n",
       "</table>\n",
       "</div>"
      ],
      "text/plain": [
       "   Unnamed: 0  InvertedMouseY  NumberInBlock  direction  greenX0  greenX1  \\\n",
       "0           1            57.0            0.0        0.0    640.0    640.0   \n",
       "1           1            28.0            1.0        0.0    640.0    640.0   \n",
       "2           1            55.0           10.0        0.0    640.0    640.0   \n",
       "3           1            44.0           11.0        0.0    640.0    640.0   \n",
       "4           1            95.0           12.0        0.0    640.0    640.0   \n",
       "\n",
       "   greenY0  greenY1    index  mouseX  mouseY   redX0   redX1  redY0  redY1  \\\n",
       "0    320.0    760.0  17596.0   728.0    57.0  1280.0  1280.0  320.0  760.0   \n",
       "1    320.0    760.0   9963.0   561.0    28.0  1280.0  1280.0  320.0  760.0   \n",
       "2    320.0    760.0  11235.0   657.0    55.0  1280.0  1280.0  320.0  760.0   \n",
       "3    320.0    760.0   9539.0   628.0    44.0  1280.0  1280.0  320.0  760.0   \n",
       "4    320.0    760.0   9327.0   652.0    95.0  1280.0  1280.0  320.0  760.0   \n",
       "\n",
       "   speed  timeMilSec  trialIdx  user  \n",
       "0    0.0        93.0     450.0   0.0  \n",
       "1    0.0       172.0     451.0   0.0  \n",
       "2    0.0       733.0     460.0   0.0  \n",
       "3    0.0       390.0     461.0   0.0  \n",
       "4    0.0       577.0     462.0   0.0  "
      ]
     },
     "execution_count": 3,
     "metadata": {},
     "output_type": "execute_result"
    }
   ],
   "source": [
    "data.head()"
   ]
  },
  {
   "cell_type": "markdown",
   "metadata": {
    "colab_type": "text",
    "id": "RPjGj0jbm0Cl"
   },
   "source": [
    "From the data i have and the problem that i am trying to solve, It seems that the distance between the two lines can be of great benefit to out model.\n",
    "distance = sqrt(x^2 + y^2)"
   ]
  },
  {
   "cell_type": "code",
   "execution_count": 4,
   "metadata": {
    "colab": {},
    "colab_type": "code",
    "id": "5AHuos1OZBXo"
   },
   "outputs": [],
   "source": [
    "data['distance'] = ( data['mouseX']**2 + data['InvertedMouseY']**2 ) ** 0.5"
   ]
  },
  {
   "cell_type": "markdown",
   "metadata": {
    "colab_type": "text",
    "id": "gEKkkZ6xnUGl"
   },
   "source": [
    "I will drop some data that are of no use for me"
   ]
  },
  {
   "cell_type": "code",
   "execution_count": 5,
   "metadata": {
    "colab": {},
    "colab_type": "code",
    "id": "D4Y2n3TjZBXv"
   },
   "outputs": [],
   "source": [
    "data.drop([\"mouseY\", \"greenX0\", \"greenX1\", \"greenY0\", \"greenY1\", \"redX0\",\"redX1\", \"redY0\", \"redY1\", \"Unnamed: 0\"], axis = 1, inplace = True)"
   ]
  },
  {
   "cell_type": "markdown",
   "metadata": {
    "colab_type": "text",
    "id": "cRC9CR6YnfTe"
   },
   "source": [
    "Now i will explore the relation between some features by plotting the two features aganist each others to see if i can differentiate between different classes by adding combination between those two features"
   ]
  },
  {
   "cell_type": "code",
   "execution_count": 6,
   "metadata": {
    "colab": {
     "base_uri": "https://localhost:8080/",
     "height": 765
    },
    "colab_type": "code",
    "id": "mNCJI7ITZBX1",
    "outputId": "da0746aa-1894-4b13-d5f6-8f6e7725e00d"
   },
   "outputs": [],
   "source": [
    "import matplotlib.pyplot as plt\n",
    "classes = np.array(list( ((data.speed).astype(\"int32\")).values))\n",
    "\n",
    "def plotRelation(first_feature, sec_feature):\n",
    "    \n",
    "    plt.scatter(first_feature, sec_feature, c = classes, s=10 )\n",
    "    plt.xlabel(first_feature.name)\n",
    "    plt.ylabel(sec_feature.name)\n",
    "    \n",
    "f = plt.figure(figsize=(20,20))\n",
    "f.add_subplot(331)\n",
    "plotRelation(data.distance, data.trialIdx)\n",
    "f.add_subplot(332)\n",
    "plotRelation(data.distance, data.timeMilSec)\n",
    "f.add_subplot(333)\n",
    "plotRelation(data.distance, data.direction)\n",
    "f.add_subplot(334)\n",
    "plotRelation(data.mouseX, data.InvertedMouseY)\n",
    "f.add_subplot(335)\n",
    "plotRelation(data.distance, data.index)\n",
    "f.add_subplot(336)\n",
    "plotRelation(data.trialIdx, data.index)\n"
   ]
  },
  {
   "cell_type": "markdown",
   "metadata": {
    "colab_type": "text",
    "id": "pSfuecOOoSEB"
   },
   "source": [
    "Now it is time to add some of the combinations"
   ]
  },
  {
   "cell_type": "code",
   "execution_count": 7,
   "metadata": {
    "colab": {},
    "colab_type": "code",
    "id": "JL3vT1iBZBX4"
   },
   "outputs": [],
   "source": [
    "data['ti'] = data[\"trialIdx\"] + data[\"index\"]\n",
    "data['dtr'] = data[\"distance\"] + data[\"trialIdx\"]"
   ]
  },
  {
   "cell_type": "code",
   "execution_count": 8,
   "metadata": {
    "colab": {
     "base_uri": "https://localhost:8080/",
     "height": 50
    },
    "colab_type": "code",
    "id": "RC2GTkXhZBX6",
    "outputId": "4134b9db-5389-45d7-8205-d0d9372a7b6c"
   },
   "outputs": [
    {
     "name": "stdout",
     "output_type": "stream",
     "text": [
      "The number of occurances of each class in the dataset = {0: 1080, 1: 1080, 2: 1079, 3: 1079, 4: 1079, 5: 1080, 6: 1080, 7: 1080, 8: 1079, 9: 1079, 10: 1080}  \n",
      "\n"
     ]
    }
   ],
   "source": [
    "data[\"user\"] = data[\"user\"].astype(\"int32\")\n",
    "unique, count= np.unique(data[\"user\"], return_counts=True)\n",
    "print(\"The number of occurances of each class in the dataset = %s \" % dict (zip(unique, count) ), \"\\n\" )"
   ]
  },
  {
   "cell_type": "markdown",
   "metadata": {
    "colab_type": "text",
    "id": "r-phCivUou_n"
   },
   "source": [
    "It is time to explore some statistics about the data"
   ]
  },
  {
   "cell_type": "code",
   "execution_count": 9,
   "metadata": {
    "colab": {
     "base_uri": "https://localhost:8080/",
     "height": 284
    },
    "colab_type": "code",
    "id": "SkXlTDN3ZBX-",
    "outputId": "6ce3ac74-4a36-4bef-918c-701344779bac"
   },
   "outputs": [
    {
     "data": {
      "text/html": [
       "<div>\n",
       "<style scoped>\n",
       "    .dataframe tbody tr th:only-of-type {\n",
       "        vertical-align: middle;\n",
       "    }\n",
       "\n",
       "    .dataframe tbody tr th {\n",
       "        vertical-align: top;\n",
       "    }\n",
       "\n",
       "    .dataframe thead th {\n",
       "        text-align: right;\n",
       "    }\n",
       "</style>\n",
       "<table border=\"1\" class=\"dataframe\">\n",
       "  <thead>\n",
       "    <tr style=\"text-align: right;\">\n",
       "      <th></th>\n",
       "      <th>InvertedMouseY</th>\n",
       "      <th>NumberInBlock</th>\n",
       "      <th>direction</th>\n",
       "      <th>index</th>\n",
       "      <th>mouseX</th>\n",
       "      <th>speed</th>\n",
       "      <th>timeMilSec</th>\n",
       "      <th>trialIdx</th>\n",
       "      <th>user</th>\n",
       "      <th>distance</th>\n",
       "      <th>ti</th>\n",
       "      <th>dtr</th>\n",
       "    </tr>\n",
       "  </thead>\n",
       "  <tbody>\n",
       "    <tr>\n",
       "      <th>count</th>\n",
       "      <td>11875.000000</td>\n",
       "      <td>11875.000000</td>\n",
       "      <td>11875.000000</td>\n",
       "      <td>1.187500e+04</td>\n",
       "      <td>11875.000000</td>\n",
       "      <td>11875.000000</td>\n",
       "      <td>11875.000000</td>\n",
       "      <td>11875.000000</td>\n",
       "      <td>11875.000000</td>\n",
       "      <td>11875.000000</td>\n",
       "      <td>1.187500e+04</td>\n",
       "      <td>11875.000000</td>\n",
       "    </tr>\n",
       "    <tr>\n",
       "      <th>mean</th>\n",
       "      <td>235.381221</td>\n",
       "      <td>14.501811</td>\n",
       "      <td>1.499621</td>\n",
       "      <td>1.604309e+04</td>\n",
       "      <td>345.932211</td>\n",
       "      <td>0.999663</td>\n",
       "      <td>974.835200</td>\n",
       "      <td>539.558653</td>\n",
       "      <td>4.999916</td>\n",
       "      <td>547.973137</td>\n",
       "      <td>1.658265e+04</td>\n",
       "      <td>1087.531789</td>\n",
       "    </tr>\n",
       "    <tr>\n",
       "      <th>std</th>\n",
       "      <td>217.203858</td>\n",
       "      <td>8.655783</td>\n",
       "      <td>1.118119</td>\n",
       "      <td>4.862862e+04</td>\n",
       "      <td>334.084477</td>\n",
       "      <td>0.816497</td>\n",
       "      <td>2797.712501</td>\n",
       "      <td>311.803026</td>\n",
       "      <td>3.162557</td>\n",
       "      <td>183.243729</td>\n",
       "      <td>4.861170e+04</td>\n",
       "      <td>357.101229</td>\n",
       "    </tr>\n",
       "    <tr>\n",
       "      <th>min</th>\n",
       "      <td>0.000000</td>\n",
       "      <td>0.000000</td>\n",
       "      <td>0.000000</td>\n",
       "      <td>1.100000e+02</td>\n",
       "      <td>0.000000</td>\n",
       "      <td>0.000000</td>\n",
       "      <td>0.000000</td>\n",
       "      <td>0.000000</td>\n",
       "      <td>0.000000</td>\n",
       "      <td>0.000000</td>\n",
       "      <td>3.310000e+02</td>\n",
       "      <td>3.000000</td>\n",
       "    </tr>\n",
       "    <tr>\n",
       "      <th>25%</th>\n",
       "      <td>23.000000</td>\n",
       "      <td>7.000000</td>\n",
       "      <td>0.000000</td>\n",
       "      <td>4.208000e+03</td>\n",
       "      <td>24.000000</td>\n",
       "      <td>0.000000</td>\n",
       "      <td>78.000000</td>\n",
       "      <td>270.000000</td>\n",
       "      <td>2.000000</td>\n",
       "      <td>438.894065</td>\n",
       "      <td>4.773500e+03</td>\n",
       "      <td>806.933097</td>\n",
       "    </tr>\n",
       "    <tr>\n",
       "      <th>50%</th>\n",
       "      <td>118.000000</td>\n",
       "      <td>15.000000</td>\n",
       "      <td>1.000000</td>\n",
       "      <td>8.051000e+03</td>\n",
       "      <td>134.000000</td>\n",
       "      <td>1.000000</td>\n",
       "      <td>374.000000</td>\n",
       "      <td>540.000000</td>\n",
       "      <td>5.000000</td>\n",
       "      <td>556.089921</td>\n",
       "      <td>8.540000e+03</td>\n",
       "      <td>1074.037404</td>\n",
       "    </tr>\n",
       "    <tr>\n",
       "      <th>75%</th>\n",
       "      <td>439.000000</td>\n",
       "      <td>22.000000</td>\n",
       "      <td>2.000000</td>\n",
       "      <td>1.746550e+04</td>\n",
       "      <td>640.000000</td>\n",
       "      <td>2.000000</td>\n",
       "      <td>1045.000000</td>\n",
       "      <td>810.000000</td>\n",
       "      <td>8.000000</td>\n",
       "      <td>642.545329</td>\n",
       "      <td>1.799950e+04</td>\n",
       "      <td>1368.246897</td>\n",
       "    </tr>\n",
       "    <tr>\n",
       "      <th>max</th>\n",
       "      <td>760.000000</td>\n",
       "      <td>29.000000</td>\n",
       "      <td>3.000000</td>\n",
       "      <td>3.733251e+06</td>\n",
       "      <td>1280.000000</td>\n",
       "      <td>2.000000</td>\n",
       "      <td>242705.000000</td>\n",
       "      <td>1079.000000</td>\n",
       "      <td>10.000000</td>\n",
       "      <td>1357.012159</td>\n",
       "      <td>3.733641e+06</td>\n",
       "      <td>2327.114314</td>\n",
       "    </tr>\n",
       "  </tbody>\n",
       "</table>\n",
       "</div>"
      ],
      "text/plain": [
       "       InvertedMouseY  NumberInBlock     direction         index  \\\n",
       "count    11875.000000   11875.000000  11875.000000  1.187500e+04   \n",
       "mean       235.381221      14.501811      1.499621  1.604309e+04   \n",
       "std        217.203858       8.655783      1.118119  4.862862e+04   \n",
       "min          0.000000       0.000000      0.000000  1.100000e+02   \n",
       "25%         23.000000       7.000000      0.000000  4.208000e+03   \n",
       "50%        118.000000      15.000000      1.000000  8.051000e+03   \n",
       "75%        439.000000      22.000000      2.000000  1.746550e+04   \n",
       "max        760.000000      29.000000      3.000000  3.733251e+06   \n",
       "\n",
       "             mouseX         speed     timeMilSec      trialIdx          user  \\\n",
       "count  11875.000000  11875.000000   11875.000000  11875.000000  11875.000000   \n",
       "mean     345.932211      0.999663     974.835200    539.558653      4.999916   \n",
       "std      334.084477      0.816497    2797.712501    311.803026      3.162557   \n",
       "min        0.000000      0.000000       0.000000      0.000000      0.000000   \n",
       "25%       24.000000      0.000000      78.000000    270.000000      2.000000   \n",
       "50%      134.000000      1.000000     374.000000    540.000000      5.000000   \n",
       "75%      640.000000      2.000000    1045.000000    810.000000      8.000000   \n",
       "max     1280.000000      2.000000  242705.000000   1079.000000     10.000000   \n",
       "\n",
       "           distance            ti           dtr  \n",
       "count  11875.000000  1.187500e+04  11875.000000  \n",
       "mean     547.973137  1.658265e+04   1087.531789  \n",
       "std      183.243729  4.861170e+04    357.101229  \n",
       "min        0.000000  3.310000e+02      3.000000  \n",
       "25%      438.894065  4.773500e+03    806.933097  \n",
       "50%      556.089921  8.540000e+03   1074.037404  \n",
       "75%      642.545329  1.799950e+04   1368.246897  \n",
       "max     1357.012159  3.733641e+06   2327.114314  "
      ]
     },
     "execution_count": 9,
     "metadata": {},
     "output_type": "execute_result"
    }
   ],
   "source": [
    "data.describe()"
   ]
  },
  {
   "cell_type": "markdown",
   "metadata": {
    "colab_type": "text",
    "id": "tabke9s9o5J_"
   },
   "source": [
    "For some reasons timeMilSec that must be positive for all time has some negative and zero values"
   ]
  },
  {
   "cell_type": "code",
   "execution_count": 10,
   "metadata": {
    "colab": {
     "base_uri": "https://localhost:8080/",
     "height": 101
    },
    "colab_type": "code",
    "id": "FfFOI3ibZBYC",
    "outputId": "72b4e6e0-94fa-435f-f23c-d720ab850555"
   },
   "outputs": [
    {
     "name": "stderr",
     "output_type": "stream",
     "text": [
      "C:\\Users\\Moghazy\\Anaconda3\\lib\\site-packages\\ipykernel_launcher.py:1: SettingWithCopyWarning: \n",
      "A value is trying to be set on a copy of a slice from a DataFrame\n",
      "\n",
      "See the caveats in the documentation: http://pandas.pydata.org/pandas-docs/stable/indexing.html#indexing-view-versus-copy\n",
      "  \"\"\"Entry point for launching an IPython kernel.\n"
     ]
    }
   ],
   "source": [
    "data.timeMilSec[data.timeMilSec <= 0] = np.nan\n",
    "data.dropna(inplace = True, axis = 0)\n"
   ]
  },
  {
   "cell_type": "markdown",
   "metadata": {
    "colab_type": "text",
    "id": "So-2Tt-JpIIS"
   },
   "source": [
    "Sinde we are classifing the speeds it will be promesing to have the actual speed by dividing the distance over the time"
   ]
  },
  {
   "cell_type": "code",
   "execution_count": 11,
   "metadata": {
    "colab": {},
    "colab_type": "code",
    "id": "zN_BnRhUZBYG"
   },
   "outputs": [],
   "source": [
    "data[\"timeMilSec\"] = data.timeMilSec=data.timeMilSec.map(lambda x: 1 if np.isinf(x) else x)\n",
    "data['actual_speed'] = data['distance'].divide(data[\"timeMilSec\"])\n",
    "# data['mean_speed'] = data.groupby('user')['actual_speed'].transform(lambda x : x.mean())"
   ]
  },
  {
   "cell_type": "markdown",
   "metadata": {
    "colab_type": "text",
    "id": "8qXyAgxsfwwI"
   },
   "source": [
    "# Outlier Detection\n",
    "Now i will explore the outliers in the dataset. I will explore the outliers in the most important columns likeTime, Distance and Actual Speed"
   ]
  },
  {
   "cell_type": "code",
   "execution_count": 12,
   "metadata": {
    "colab": {
     "base_uri": "https://localhost:8080/",
     "height": 411
    },
    "colab_type": "code",
    "id": "4hz2YqInZBYK",
    "outputId": "0156b04f-77d2-4fcf-9f68-e099f2ac78f7"
   },
   "outputs": [
    {
     "data": {
      "text/plain": [
       "<matplotlib.axes._subplots.AxesSubplot at 0x173f81f8a90>"
      ]
     },
     "execution_count": 12,
     "metadata": {},
     "output_type": "execute_result"
    },
    {
     "data": {
      "image/png": "[encoded data removed]",
      "text/plain": [
       "<Figure size 432x288 with 1 Axes>"
      ]
     },
     "metadata": {
      "needs_background": "light"
     },
     "output_type": "display_data"
    }
   ],
   "source": [
    "import seaborn as sns\n",
    "sns.boxplot(x=data['timeMilSec'])"
   ]
  },
  {
   "cell_type": "code",
   "execution_count": 13,
   "metadata": {
    "colab": {
     "base_uri": "https://localhost:8080/",
     "height": 411
    },
    "colab_type": "code",
    "id": "MpDpuHqFZBYO",
    "outputId": "4205004c-6134-4f02-8978-68308a26ceb0"
   },
   "outputs": [
    {
     "data": {
      "text/plain": [
       "<matplotlib.axes._subplots.AxesSubplot at 0x173f82549b0>"
      ]
     },
     "execution_count": 13,
     "metadata": {},
     "output_type": "execute_result"
    },
    {
     "data": {
      "image/png": "[encoded data removed]",
      "text/plain": [
       "<Figure size 432x288 with 1 Axes>"
      ]
     },
     "metadata": {
      "needs_background": "light"
     },
     "output_type": "display_data"
    }
   ],
   "source": [
    "sns.boxplot(x=data['distance'])"
   ]
  },
  {
   "cell_type": "code",
   "execution_count": 14,
   "metadata": {
    "colab": {
     "base_uri": "https://localhost:8080/",
     "height": 411
    },
    "colab_type": "code",
    "id": "g3oNasaKZBYS",
    "outputId": "f2ad51c3-13d5-4a4e-a0c3-f9644139ad36"
   },
   "outputs": [
    {
     "data": {
      "text/plain": [
       "<matplotlib.axes._subplots.AxesSubplot at 0x173f82b6da0>"
      ]
     },
     "execution_count": 14,
     "metadata": {},
     "output_type": "execute_result"
    },
    {
     "data": {
      "image/png": "[encoded data removed]",
      "text/plain": [
       "<Figure size 432x288 with 1 Axes>"
      ]
     },
     "metadata": {
      "needs_background": "light"
     },
     "output_type": "display_data"
    }
   ],
   "source": [
    "sns.boxplot(x=data['actual_speed'])"
   ]
  },
  {
   "cell_type": "markdown",
   "metadata": {
    "colab_type": "text",
    "id": "hYjwzDy8jBe8"
   },
   "source": [
    "Now let's Explore the number of outliers in the dataset according to the zscore. I will count the numbers greater than 3 std."
   ]
  },
  {
   "cell_type": "code",
   "execution_count": 15,
   "metadata": {
    "colab": {},
    "colab_type": "code",
    "id": "ANH1KoERZBYV"
   },
   "outputs": [],
   "source": [
    "from scipy import stats\n",
    "import numpy as np\n",
    "\n",
    "z = np.abs(stats.zscore(data))"
   ]
  },
  {
   "cell_type": "code",
   "execution_count": 16,
   "metadata": {
    "colab": {
     "base_uri": "https://localhost:8080/",
     "height": 34
    },
    "colab_type": "code",
    "id": "78rlFbHHZBYX",
    "outputId": "ec2fa48b-75fa-4fab-8128-3be5b3a6396a"
   },
   "outputs": [
    {
     "name": "stdout",
     "output_type": "stream",
     "text": [
      "number of data examples greater than 3 standard deviations = 579 \n"
     ]
    }
   ],
   "source": [
    "zee = (np.where(z > 3))[1]\n",
    "\n",
    "print(\"number of data examples greater than 3 standard deviations = %i \" % len(zee))"
   ]
  },
  {
   "cell_type": "markdown",
   "metadata": {
    "colab_type": "text",
    "id": "eBSvDCDOjPuf"
   },
   "source": [
    "It is time to discover the correlations between features(variables) in the dataset, I will use Heatmap for visualization."
   ]
  },
  {
   "cell_type": "code",
   "execution_count": 17,
   "metadata": {
    "colab": {
     "base_uri": "https://localhost:8080/",
     "height": 1390
    },
    "colab_type": "code",
    "id": "-xs8-jEjZBYa",
    "outputId": "85e6e077-abf1-42d8-fc16-63da8edaed04"
   },
   "outputs": [
    {
     "data": {
      "image/png": "[encoded data removed]",
      "text/plain": [
       "<Figure size 1800x1800 with 2 Axes>"
      ]
     },
     "metadata": {
      "needs_background": "light"
     },
     "output_type": "display_data"
    }
   ],
   "source": [
    "import seaborn as sns\n",
    "import matplotlib.pyplot as plt\n",
    "\n",
    "corr = data.corr()\n",
    "f, ax = plt.subplots(figsize=(25, 25))\n",
    "cmap = sns.diverging_palette(220, 10, as_cmap=True)\n",
    "sns.heatmap(corr, cmap=cmap, vmax=.3, center=0,\n",
    "            square=True, linewidths=.5)\n",
    "plt.show()"
   ]
  },
  {
   "cell_type": "markdown",
   "metadata": {
    "colab_type": "text",
    "id": "55_tx5__jg3p"
   },
   "source": [
    "Let's see if there are any null values in the dataset that are resulted from division operations or machine fault."
   ]
  },
  {
   "cell_type": "code",
   "execution_count": 18,
   "metadata": {
    "colab": {
     "base_uri": "https://localhost:8080/",
     "height": 286
    },
    "colab_type": "code",
    "id": "wuw0dZBAZBYe",
    "outputId": "b2cfc439-8761-47c2-9264-b23cb455662c"
   },
   "outputs": [
    {
     "name": "stdout",
     "output_type": "stream",
     "text": [
      "Number of NaNs in each column :\n",
      "\n"
     ]
    },
    {
     "data": {
      "text/plain": [
       "InvertedMouseY    0\n",
       "NumberInBlock     0\n",
       "direction         0\n",
       "index             0\n",
       "mouseX            0\n",
       "speed             0\n",
       "timeMilSec        0\n",
       "trialIdx          0\n",
       "user              0\n",
       "distance          0\n",
       "ti                0\n",
       "dtr               0\n",
       "actual_speed      0\n",
       "dtype: int64"
      ]
     },
     "execution_count": 18,
     "metadata": {},
     "output_type": "execute_result"
    }
   ],
   "source": [
    "data.isna().sum()\n",
    "print(\"Number of NaNs in each column :\\n\")\n",
    "np.isinf(data).sum()"
   ]
  },
  {
   "cell_type": "markdown",
   "metadata": {
    "colab_type": "text",
    "id": "nob1o9p_j3MG"
   },
   "source": [
    "Now i will try to know more about the distribution of data points for each feature."
   ]
  },
  {
   "cell_type": "code",
   "execution_count": 19,
   "metadata": {
    "colab": {
     "base_uri": "https://localhost:8080/",
     "height": 364
    },
    "colab_type": "code",
    "id": "nmRxqfdMZBYj",
    "outputId": "ef9ba1d0-c389-44a3-891f-f907ff34476d"
   },
   "outputs": [
    {
     "data": {
      "text/plain": [
       "<matplotlib.axes._subplots.AxesSubplot at 0x173f831b128>"
      ]
     },
     "execution_count": 19,
     "metadata": {},
     "output_type": "execute_result"
    },
    {
     "data": {
      "image/png": "[encoded data removed]",
      "text/plain": [
       "<Figure size 432x288 with 1 Axes>"
      ]
     },
     "metadata": {
      "needs_background": "light"
     },
     "output_type": "display_data"
    }
   ],
   "source": [
    "data[\"speed\"].hist()"
   ]
  },
  {
   "cell_type": "code",
   "execution_count": 20,
   "metadata": {
    "colab": {
     "base_uri": "https://localhost:8080/",
     "height": 364
    },
    "colab_type": "code",
    "id": "dxqlL4glZBYm",
    "outputId": "41e1419e-6433-4f53-bb77-e28dd8dc3ddc"
   },
   "outputs": [
    {
     "data": {
      "text/plain": [
       "<matplotlib.axes._subplots.AxesSubplot at 0x173f831bc88>"
      ]
     },
     "execution_count": 20,
     "metadata": {},
     "output_type": "execute_result"
    },
    {
     "data": {
      "image/png": "[encoded data removed]",
      "text/plain": [
       "<Figure size 432x288 with 1 Axes>"
      ]
     },
     "metadata": {
      "needs_background": "light"
     },
     "output_type": "display_data"
    }
   ],
   "source": [
    "data[\"direction\"].hist()"
   ]
  },
  {
   "cell_type": "code",
   "execution_count": 21,
   "metadata": {
    "colab": {
     "base_uri": "https://localhost:8080/",
     "height": 364
    },
    "colab_type": "code",
    "id": "hCTaJzQLZBYs",
    "outputId": "77936de2-64a7-4746-b867-def2fbd0040a"
   },
   "outputs": [
    {
     "data": {
      "text/plain": [
       "<matplotlib.axes._subplots.AxesSubplot at 0x173f877aeb8>"
      ]
     },
     "execution_count": 21,
     "metadata": {},
     "output_type": "execute_result"
    },
    {
     "data": {
      "image/png": "[encoded data removed]",
      "text/plain": [
       "<Figure size 432x288 with 1 Axes>"
      ]
     },
     "metadata": {
      "needs_background": "light"
     },
     "output_type": "display_data"
    }
   ],
   "source": [
    "data[\"distance\"].hist()"
   ]
  },
  {
   "cell_type": "code",
   "execution_count": 22,
   "metadata": {
    "colab": {
     "base_uri": "https://localhost:8080/",
     "height": 366
    },
    "colab_type": "code",
    "id": "eHijZk25ZBYu",
    "outputId": "824d0b22-ed05-4eaf-f6e9-ff4b93f451e1"
   },
   "outputs": [
    {
     "data": {
      "text/plain": [
       "<matplotlib.axes._subplots.AxesSubplot at 0x173f65756a0>"
      ]
     },
     "execution_count": 22,
     "metadata": {},
     "output_type": "execute_result"
    },
    {
     "data": {
      "image/png": "[encoded data removed]",
      "text/plain": [
       "<Figure size 432x288 with 1 Axes>"
      ]
     },
     "metadata": {
      "needs_background": "light"
     },
     "output_type": "display_data"
    }
   ],
   "source": [
    "data[\"timeMilSec\"].hist()"
   ]
  },
  {
   "cell_type": "markdown",
   "metadata": {
    "colab_type": "text",
    "id": "KTKfMZVVkEgf"
   },
   "source": [
    "It is time to split the training data from the label or target"
   ]
  },
  {
   "cell_type": "code",
   "execution_count": 23,
   "metadata": {
    "colab": {
     "base_uri": "https://localhost:8080/",
     "height": 118
    },
    "colab_type": "code",
    "id": "zkxGAJ4TZBYx",
    "outputId": "bb988c7d-d591-4b3c-c1e2-a6c9daaee56b"
   },
   "outputs": [
    {
     "name": "stdout",
     "output_type": "stream",
     "text": [
      "0    0\n",
      "1    0\n",
      "2    0\n",
      "3    0\n",
      "4    0\n",
      "Name: speed, dtype: int32\n"
     ]
    }
   ],
   "source": [
    "from sklearn.model_selection import train_test_split\n",
    "x = data.drop(['speed'], axis = 1)\n",
    "y = data['speed'].astype(\"int32\")\n",
    "print( y.head() )\n",
    "\n",
    "x_train, x_test, y_train, y_test = train_test_split( x.values, y.values, test_size=0.2, random_state=42 )"
   ]
  },
  {
   "cell_type": "markdown",
   "metadata": {
    "colab_type": "text",
    "id": "DbY4CIeYkMKO"
   },
   "source": [
    "Here i will count the number of occurance of each target class to know which metric to use to measure performance."
   ]
  },
  {
   "cell_type": "code",
   "execution_count": 24,
   "metadata": {
    "colab": {
     "base_uri": "https://localhost:8080/",
     "height": 50
    },
    "colab_type": "code",
    "id": "AYz9W90RZBY0",
    "outputId": "95408025-d7bf-416d-8842-909565f066de"
   },
   "outputs": [
    {
     "name": "stdout",
     "output_type": "stream",
     "text": [
      "The number of occurances of each class in the dataset = {0: 3177, 1: 3139, 2: 2889}  \n",
      "\n"
     ]
    }
   ],
   "source": [
    "unique, count= np.unique(y_train, return_counts=True)\n",
    "print(\"The number of occurances of each class in the dataset = %s \" % dict (zip(unique, count) ), \"\\n\" )"
   ]
  },
  {
   "cell_type": "markdown",
   "metadata": {
    "colab_type": "text",
    "id": "rZbjFH8CkZHs"
   },
   "source": [
    "# Algorithm choice and optmization\n",
    "Since the Dataset is not large, I will use Ensemble Learninig with ExtraTree Classifier. I will optmize the results using gridsearch to choose the best Hyper Parameter"
   ]
  },
  {
   "cell_type": "code",
   "execution_count": 25,
   "metadata": {
    "colab": {
     "base_uri": "https://localhost:8080/",
     "height": 50
    },
    "colab_type": "code",
    "id": "gFGTtI0RZBY3",
    "outputId": "39d2849e-e2c1-40ca-f805-9cc68cebc3bc"
   },
   "outputs": [
    {
     "name": "stderr",
     "output_type": "stream",
     "text": [
      "C:\\Users\\Moghazy\\Anaconda3\\lib\\site-packages\\sklearn\\ensemble\\weight_boosting.py:29: DeprecationWarning: numpy.core.umath_tests is an internal NumPy module and should not be imported. It will be removed in a future NumPy release.\n",
      "  from numpy.core.umath_tests import inner1d\n"
     ]
    },
    {
     "name": "stdout",
     "output_type": "stream",
     "text": [
      "The best parameters are {'n_estimators': 950} with a score of 97\n",
      "Best estimator accuracy on test set 97.44 \n"
     ]
    }
   ],
   "source": [
    "from sklearn.ensemble import ExtraTreesClassifier\n",
    "from sklearn.neural_network import MLPClassifier\n",
    "from sklearn.model_selection import GridSearchCV\n",
    "from sklearn.metrics import classification_report\n",
    "from sklearn.ensemble import AdaBoostClassifier\n",
    "from sklearn.ensemble import RandomForestClassifier, VotingClassifier\n",
    "from sklearn.ensemble import GradientBoostingClassifier\n",
    "\n",
    "#uncomment the commented code and uncomment the commented to perform gridsearchCV\n",
    "\n",
    "clf = ExtraTreesClassifier(n_estimators=950, random_state=0)\n",
    "\n",
    "# clf.fit(x_train, y_train)\n",
    "# print('Accuracy of classifier on training set: {:.2f}'.format(clf.score(x_train, y_train) * 100))\n",
    "# print('Accuracy of classifier on test set: {:.2f}'.format(clf.score(x_test, y_test) * 100))\n",
    "\n",
    "n_estimators = np.linspace(start = 600 , stop = 1000, num = 8, dtype= int )\n",
    "n_estimators = [500, 550, 600, 650, 700, 750, 800 , 850, 900, 950]\n",
    "\n",
    "param_grid = {'n_estimators': n_estimators}\n",
    "grid = GridSearchCV(clf, param_grid =param_grid, cv=3, n_jobs=-1, scoring='accuracy')\n",
    "grid.fit(x_train, y_train)\n",
    "\n",
    "print(\"The best parameters are %s with a score of %0.0f\" % (grid.best_params_, grid.best_score_ * 100 ))\n",
    "print( \"Best estimator accuracy on test set {:.2f} \".format(grid.best_estimator_.score(x_test, y_test) * 100 ) )"
   ]
  },
  {
   "cell_type": "markdown",
   "metadata": {
    "colab_type": "text",
    "id": "jUgvjQmak5DW"
   },
   "source": [
    "Now i will draw the training vs testing scores to visualize the result from the estimator as i increase the number of estimators in the extra tree classifiers"
   ]
  },
  {
   "cell_type": "code",
   "execution_count": 26,
   "metadata": {
    "colab": {
     "base_uri": "https://localhost:8080/",
     "height": 382
    },
    "colab_type": "code",
    "id": "sK14P8eRZBY6",
    "outputId": "8ff223c7-e097-4cc7-8a12-8ccd20b00a62"
   },
   "outputs": [
    {
     "data": {
      "image/png": "[encoded data removed]",
      "text/plain": [
       "<Figure size 432x288 with 1 Axes>"
      ]
     },
     "metadata": {
      "needs_background": "light"
     },
     "output_type": "display_data"
    }
   ],
   "source": [
    "from sklearn.model_selection import validation_curve\n",
    "\n",
    "param_range = [1, 10, 20, 50, 70, 100, 500, 950]\n",
    "\n",
    "train_scores, test_scores = validation_curve( clf , x_train, y_train, param_name=\"n_estimators\", param_range=param_range,cv=10, scoring=\"accuracy\", n_jobs=1)\n",
    "train_scores_mean = np.mean(train_scores, axis=1)\n",
    "train_scores_std = np.std(train_scores, axis=1)\n",
    "test_scores_mean = np.mean(test_scores, axis=1)\n",
    "test_scores_std = np.std(test_scores, axis=1)\n",
    "\n",
    "plt.title(\"Validation Curve with ExtraTreesClassifier\")\n",
    "plt.xlabel(\"$\\gamma$\")\n",
    "plt.ylabel(\"Score\")\n",
    "plt.ylim(0.0, 2)\n",
    "lw = 2\n",
    "plt.semilogx(param_range, train_scores_mean, label=\"Training score\",\n",
    "             color=\"darkorange\", lw=lw)\n",
    "plt.fill_between(param_range, train_scores_mean - train_scores_std,\n",
    "                 train_scores_mean + train_scores_std, alpha=0.2,\n",
    "                 color=\"darkorange\", lw=lw)\n",
    "plt.semilogx(param_range, test_scores_mean, label=\"Cross-validation score\",\n",
    "             color=\"navy\", lw=lw)\n",
    "plt.fill_between(param_range, test_scores_mean - test_scores_std,\n",
    "                 test_scores_mean + test_scores_std, alpha=0.2,\n",
    "                 color=\"navy\", lw=lw)\n",
    "plt.legend(loc=\"best\")\n",
    "plt.show()"
   ]
  }
 ],
 "metadata": {
  "accelerator": "TPU",
  "colab": {
   "collapsed_sections": [],
   "name": "ExtreTrees.ipynb",
   "provenance": [],
   "version": "0.3.2"
  },
  "kernelspec": {
   "display_name": "Python 3",
   "language": "python",
   "name": "python3"
  },
  "language_info": {
   "codemirror_mode": {
    "name": "ipython",
    "version": 3
   },
   "file_extension": ".py",
   "mimetype": "text/x-python",
   "name": "python",
   "nbconvert_exporter": "python",
   "pygments_lexer": "ipython3",
   "version": "3.7.0"
  }
 },
 "nbformat": 4,
 "nbformat_minor": 1
}
