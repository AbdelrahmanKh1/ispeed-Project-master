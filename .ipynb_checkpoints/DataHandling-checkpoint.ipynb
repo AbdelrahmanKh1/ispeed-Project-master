{
 "cells": [
  {
   "cell_type": "markdown",
   "metadata": {},
   "source": [
    "# Using Pandas to handle CSV file For the Project"
   ]
  },
  {
   "cell_type": "markdown",
   "metadata": {},
   "source": [
    "Importing pandas to extract Data from the CSV file"
   ]
  },
  {
   "cell_type": "code",
   "execution_count": 1,
   "metadata": {},
   "outputs": [],
   "source": [
    "import pandas as pd\n",
    "pd.set_option('display.float_format', lambda x: '%.0f' % x)\n"
   ]
  },
  {
   "cell_type": "markdown",
   "metadata": {},
   "source": [
    "### For vertical lines ( Direction Folder = 0,1 , GreenX0 = GreenY0 )\n",
    "Obtaining all records that have X Position less than the X Position of the green line"
   ]
  },
  {
   "cell_type": "markdown",
   "metadata": {},
   "source": [
    "Now we take the point with the highest X among them which will be the first point before the line"
   ]
  },
  {
   "cell_type": "markdown",
   "metadata": {},
   "source": [
    "Obtaining all the points that have X greater then X of the green line"
   ]
  },
  {
   "cell_type": "markdown",
   "metadata": {},
   "source": [
    "Now we take the point with the smallest value for X among them which will be the first point before the line"
   ]
  },
  {
   "cell_type": "markdown",
   "metadata": {},
   "source": [
    "Now we interpolate the two points to get more accurate results as the points may not cut the line due to many hardware factors"
   ]
  },
  {
   "cell_type": "markdown",
   "metadata": {},
   "source": [
    "### For Horizontal lines ( Direction Folder = 2,3 , GreenY0 = redY0 )\n",
    "Obtaining all records that have y Position less than the y Position of the green line"
   ]
  },
  {
   "cell_type": "code",
   "execution_count": 2,
   "metadata": {},
   "outputs": [],
   "source": [
    "def horizontal_points(direction, color):\n",
    "    \n",
    "    if ( direction == 'left_to_right' ) :\n",
    "   \n",
    "        maxBeforeX = records[records['mouseX']<= records[ str(color) + 'X0']]\n",
    "        maxTime = maxBeforeX [maxBeforeX['mouseX'].max() == maxBeforeX['mouseX']]\n",
    "\n",
    "\n",
    "        minAfterX = records[records['mouseX']>= records[ str(color) + 'X0']]\n",
    "        minTime = minAfterX [minAfterX['mouseX'].min() == minAfterX['mouseX']]\n",
    "    \n",
    "    if ( direction == 'right_to_left' ) :\n",
    "    \n",
    "        maxBeforeX = records[records['mouseX']>= records[ str(color) + 'X0']]\n",
    "        maxTime = maxBeforeX [maxBeforeX['mouseX'].min() == maxBeforeX['mouseX']]\n",
    "    \n",
    "    \n",
    "        minAfterX = records[records['mouseX']<= records[ str(color) + 'X0']]\n",
    "        minTime = minAfterX [minAfterX['mouseX'].max() == minAfterX['mouseX']]\n",
    "    \n",
    "    \n",
    "    frame1 = records.iloc [maxTime['timeMilSec'].idxmax()]\n",
    "    frame2 = records.iloc [minTime['timeMilSec'].idxmin()]\n",
    "    \n",
    "    frames = [ frame1 , frame2 ]\n",
    "    results = pd.concat(frames , axis = 1)\n",
    "    results = (results.transpose())\n",
    "\n",
    "    return (results)"
   ]
  },
  {
   "cell_type": "code",
   "execution_count": 3,
   "metadata": {},
   "outputs": [],
   "source": [
    "def vertical_points(records, direction, color):\n",
    "    \n",
    "    \n",
    "    if ( direction == \"bottom_to_top\" ) :\n",
    "   \n",
    "        maxBeforeY = records[records['InvertedMouseY'] <= records[ str(color) + 'Y0']]\n",
    "        maxTime = maxBeforeY [maxBeforeY['InvertedMouseY'].max() == maxBeforeY['InvertedMouseY']]\n",
    "\n",
    "\n",
    "        minAfterY = records[records['InvertedMouseY'] >= records[ str(color) + 'Y0']]\n",
    "        minTime = minAfterY [minAfterY['InvertedMouseY'].min() == minAfterY['InvertedMouseY']]\n",
    "    \n",
    "    if ( direction == \"top_to_bottom\" ) :\n",
    "    \n",
    "        maxBeforeY = records[records['InvertedMouseY'] >= records[ str(color) + 'Y0']]\n",
    "        maxTime = maxBeforeY [maxBeforeY['InvertedMouseY'].min() == maxBeforeY['InvertedMouseY']]\n",
    "    \n",
    "    \n",
    "        minAfterY = records[records['InvertedMouseY'] <= records[ str(color) + 'Y0']]\n",
    "        minTime = minAfterY [minAfterY['InvertedMouseY'].max() == minAfterY['InvertedMouseY']]\n",
    "        print(maxBeforeY)\n",
    "    \n",
    "    frame1 = records.iloc [maxTime['timeMilSec'].idxmax()]\n",
    "    frame2 = records.iloc [minTime['timeMilSec'].idxmin()]\n",
    "    \n",
    "    frames = [ frame1 , frame2 ]\n",
    "    results = pd.concat(frames , axis = 1)\n",
    "    results = (results.transpose())\n",
    "\n",
    "    return (results)"
   ]
  },
  {
   "cell_type": "code",
   "execution_count": 4,
   "metadata": {},
   "outputs": [],
   "source": [
    "def interpolate(result) :\n",
    "    \n",
    "    result = result.reset_index()\n",
    "    result.loc[2] = result.loc[1]\n",
    "    result.loc[1]['mouseX','InvertedMouseY', 'timeMilSec'] = np.nan\n",
    "    \n",
    "    interpolation = result[['mouseX','InvertedMouseY', 'timeMilSec'] ]\n",
    "    interpolation.set_index(['mouseX','InvertedMouseY'])\n",
    "    interpolation = interpolation.interpolate(method='index')\n",
    "    result.set_value(1, 'mouseX', interpolation['mouseX'][1])\n",
    "    result.set_value(1, 'InvertedMouseY', interpolation['InvertedMouseY'][1])\n",
    "    result.set_value(1, 'timeMilSec', interpolation['timeMilSec'][1])\n",
    "    return result.loc[1]"
   ]
  },
  {
   "cell_type": "code",
   "execution_count": 5,
   "metadata": {},
   "outputs": [],
   "source": [
    "from os import listdir\n",
    "from os.path import isfile, join\n",
    "\n",
    "def individual_data(data ,direction):\n",
    "    \n",
    "    if(direction == \"left_to_right\"):\n",
    "        num_direction = 0\n",
    "    elif(direction == \"right_to_left\"):\n",
    "        num_direction = 1\n",
    "    elif(direction == \"top_to_bottom\"):\n",
    "        num_direction = 2\n",
    "    elif(direction == \"bottom_to_top\"):\n",
    "        num_direction = 3\n",
    "        \n",
    "    for i in range(0, 3):\n",
    "        for j in range(0, 3):\n",
    "            mypath = \"C:\\\\Users\\\\Moghazy\\\\Desktop\\\\37-19058\\\\\" + str(num_direction) + \"\\\\\" + str(i) + \"\\\\\"+ str(j)\n",
    "            onlyfiles = [join(mypath, f) for f in listdir(mypath) if (isfile(join(mypath, f)))]\n",
    "            if(num_direction == 0 or num_direction == 1):\n",
    "                for file in onlyfiles :\n",
    "                    records = pd.read_csv(file)\n",
    "                    record1 = horizontal_points(records, direction, 'green')\n",
    "                    result1 = interpolate(record1)\n",
    "                    data = data.append(result1)\n",
    "\n",
    "                    record2 = horizontal_points(records, direction, 'red')\n",
    "                    result2 = interpolate(record2)\n",
    "                    data = data.append(result2)\n",
    "\n",
    "            elif(num_direction == 2 or num_direction == 3):\n",
    "                for file in onlyfiles :\n",
    "                    records = pd.read_csv(file)\n",
    "                    record1 = vertical_points(records,direction, 'green')\n",
    "                    result1 = interpolate(record1)\n",
    "                    data = data.append(result1)\n",
    "\n",
    "                    record2 = vertical_points(records,direction, 'red')\n",
    "                    result2 = interpolate(record2)\n",
    "                    data = data.append(result2)\n",
    "    return data"
   ]
  },
  {
   "cell_type": "code",
   "execution_count": 8,
   "metadata": {},
   "outputs": [],
   "source": [
    "data = pd.DataFrame()\n",
    "\n",
    "directions = [\"left_to_right\" , \"right_to_left\", \"top_to_bottom\", \"bottom_to_top\"]\n",
    "\n",
    "for dir in directions:\n",
    "    data = individual_data(data ,dir)\n",
    "    print(data)\n"
   ]
  },
  {
   "cell_type": "code",
   "execution_count": 9,
   "metadata": {},
   "outputs": [],
   "source": [
    "data.head()"
   ]
  }
 ],
 "metadata": {
  "anaconda-cloud": {},
  "kernelspec": {
   "display_name": "Python 3",
   "language": "python",
   "name": "python3"
  },
  "language_info": {
   "codemirror_mode": {
    "name": "ipython",
    "version": 3
   },
   "file_extension": ".py",
   "mimetype": "text/x-python",
   "name": "python",
   "nbconvert_exporter": "python",
   "pygments_lexer": "ipython3",
   "version": "3.7.0"
  }
 },
 "nbformat": 4,
 "nbformat_minor": 1
}
